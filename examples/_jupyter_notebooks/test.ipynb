{
 "cells": [
  {
   "cell_type": "code",
   "execution_count": 12,
   "id": "86b321fb",
   "metadata": {},
   "outputs": [
    {
     "name": "stdout",
     "output_type": "stream",
     "text": [
      "Requirement already satisfied: rich in c:\\users\\kruti\\desktop\\gen ai\\25-05-28-gen-ai\\venv\\lib\\site-packages (14.0.0)\n",
      "Requirement already satisfied: markdown-it-py>=2.2.0 in c:\\users\\kruti\\desktop\\gen ai\\25-05-28-gen-ai\\venv\\lib\\site-packages (from rich) (3.0.0)\n",
      "Requirement already satisfied: pygments<3.0.0,>=2.13.0 in c:\\users\\kruti\\desktop\\gen ai\\25-05-28-gen-ai\\venv\\lib\\site-packages (from rich) (2.19.1)\n",
      "Requirement already satisfied: mdurl~=0.1 in c:\\users\\kruti\\desktop\\gen ai\\25-05-28-gen-ai\\venv\\lib\\site-packages (from markdown-it-py>=2.2.0->rich) (0.1.2)\n",
      "Note: you may need to restart the kernel to use updated packages.\n"
     ]
    }
   ],
   "source": [
    "%pip install rich"
   ]
  },
  {
   "cell_type": "code",
   "execution_count": 13,
   "id": "413ee24a",
   "metadata": {},
   "outputs": [],
   "source": [
    "from rich import print"
   ]
  },
  {
   "cell_type": "code",
   "execution_count": 14,
   "id": "50add4d5",
   "metadata": {},
   "outputs": [
    {
     "data": {
      "text/html": [
       "<pre style=\"white-space:pre;overflow-x:auto;line-height:normal;font-family:Menlo,'DejaVu Sans Mono',consolas,'Courier New',monospace\"><span style=\"font-weight: bold\">{</span><span style=\"color: #008000; text-decoration-color: #008000\">'food'</span>: <span style=\"color: #008000; text-decoration-color: #008000\">'Sausage'</span>, <span style=\"color: #008000; text-decoration-color: #008000\">'drink'</span>: <span style=\"color: #008000; text-decoration-color: #008000\">'coke'</span><span style=\"font-weight: bold\">}</span>\n",
       "</pre>\n"
      ],
      "text/plain": [
       "\u001b[1m{\u001b[0m\u001b[32m'food'\u001b[0m: \u001b[32m'Sausage'\u001b[0m, \u001b[32m'drink'\u001b[0m: \u001b[32m'coke'\u001b[0m\u001b[1m}\u001b[0m\n"
      ]
     },
     "metadata": {},
     "output_type": "display_data"
    }
   ],
   "source": [
    "print({\"food\": \"Sausage\", \"drink\": \"coke\"})"
   ]
  }
 ],
 "metadata": {
  "kernelspec": {
   "display_name": "venv",
   "language": "python",
   "name": "python3"
  },
  "language_info": {
   "codemirror_mode": {
    "name": "ipython",
    "version": 3
   },
   "file_extension": ".py",
   "mimetype": "text/x-python",
   "name": "python",
   "nbconvert_exporter": "python",
   "pygments_lexer": "ipython3",
   "version": "3.13.4"
  }
 },
 "nbformat": 4,
 "nbformat_minor": 5
}
