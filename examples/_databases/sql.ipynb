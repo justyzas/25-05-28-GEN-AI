{
 "cells": [
  {
   "cell_type": "code",
   "execution_count": 3,
   "id": "893ae16a",
   "metadata": {},
   "outputs": [],
   "source": [
    "import sqlite3\n",
    "# Prisijungimas prie duomenų bazės\n",
    "con = sqlite3.connect(\"tutorial.db\")\n",
    "cursor = con.cursor()"
   ]
  },
  {
   "cell_type": "code",
   "execution_count": null,
   "id": "3d3a7e6c",
   "metadata": {},
   "outputs": [],
   "source": [
    "# Sukuria lentelę Persons\n",
    "cursor.execute(\"\"\"CREATE TABLE Persons (\n",
    "    id INTEGER NOT NULL PRIMARY KEY AUTOINCREMENT,\n",
    "    LastName TEXT,\n",
    "    FirstName TEXT,\n",
    "    Address TEXT,\n",
    "    City TEXT\n",
    ");\"\"\")"
   ]
  },
  {
   "cell_type": "code",
   "execution_count": 4,
   "id": "54f8eade",
   "metadata": {},
   "outputs": [
    {
     "data": {
      "text/plain": [
       "<sqlite3.Cursor at 0x250bab93040>"
      ]
     },
     "execution_count": 4,
     "metadata": {},
     "output_type": "execute_result"
    }
   ],
   "source": [
    "# Duomenų įterpimas į jau anksčiau sukurtą duomenų bazės lentelę\n",
    "cursor.execute(\"\"\"INSERT INTO Persons (FirstName, LastName, Address, City)\n",
    "VALUES ('Mantas', 'Rimavičius', 'Pilies g. 12-1', 'Kelmė');\"\"\")"
   ]
  },
  {
   "cell_type": "code",
   "execution_count": null,
   "id": "c12f0374",
   "metadata": {},
   "outputs": [
    {
     "data": {
      "text/html": [
       "<pre style=\"white-space:pre;overflow-x:auto;line-height:normal;font-family:Menlo,'DejaVu Sans Mono',consolas,'Courier New',monospace\"><span style=\"font-weight: bold\">[(</span><span style=\"color: #008080; text-decoration-color: #008080; font-weight: bold\">2</span>, <span style=\"color: #008000; text-decoration-color: #008000\">'Paulavicius'</span>, <span style=\"color: #008000; text-decoration-color: #008000\">'Jonas'</span>, <span style=\"color: #008000; text-decoration-color: #008000\">'London st. 4'</span>, <span style=\"color: #008000; text-decoration-color: #008000\">'UK, Bureg'</span><span style=\"font-weight: bold\">)]</span>\n",
       "</pre>\n"
      ],
      "text/plain": [
       "\u001b[1m[\u001b[0m\u001b[1m(\u001b[0m\u001b[1;36m2\u001b[0m, \u001b[32m'Paulavicius'\u001b[0m, \u001b[32m'Jonas'\u001b[0m, \u001b[32m'London st. 4'\u001b[0m, \u001b[32m'UK, Bureg'\u001b[0m\u001b[1m)\u001b[0m\u001b[1m]\u001b[0m\n"
      ]
     },
     "metadata": {},
     "output_type": "display_data"
    }
   ],
   "source": [
    "# Įrašų gavimas atfiltruojant pagal pirmą raidę 'P' pavardėje\n",
    "from rich import print\n",
    "cursor.execute(\"\"\"SELECT * FROM Persons WHERE LastName like \"P%\";\"\"\")\n",
    "results = cursor.fetchall()\n",
    "print(results)"
   ]
  },
  {
   "cell_type": "code",
   "execution_count": 25,
   "id": "90127877",
   "metadata": {},
   "outputs": [
    {
     "data": {
      "text/html": [
       "<pre style=\"white-space:pre;overflow-x:auto;line-height:normal;font-family:Menlo,'DejaVu Sans Mono',consolas,'Courier New',monospace\">UK, Bureg\n",
       "</pre>\n"
      ],
      "text/plain": [
       "UK, Bureg\n"
      ]
     },
     "metadata": {},
     "output_type": "display_data"
    }
   ],
   "source": [
    "print(results[0][4])"
   ]
  },
  {
   "cell_type": "code",
   "execution_count": 31,
   "id": "9e853e6b",
   "metadata": {},
   "outputs": [
    {
     "data": {
      "text/html": [
       "<pre style=\"white-space:pre;overflow-x:auto;line-height:normal;font-family:Menlo,'DejaVu Sans Mono',consolas,'Courier New',monospace\"><span style=\"font-weight: bold\">(</span><span style=\"color: #008000; text-decoration-color: #008000\">'Doe'</span>, <span style=\"color: #008000; text-decoration-color: #008000\">'John'</span>, <span style=\"color: #008080; text-decoration-color: #008080; font-weight: bold\">1</span><span style=\"font-weight: bold\">)</span>\n",
       "</pre>\n"
      ],
      "text/plain": [
       "\u001b[1m(\u001b[0m\u001b[32m'Doe'\u001b[0m, \u001b[32m'John'\u001b[0m, \u001b[1;36m1\u001b[0m\u001b[1m)\u001b[0m\n"
      ]
     },
     "metadata": {},
     "output_type": "display_data"
    }
   ],
   "source": [
    "# Specifinių stulpelių iš DB lentelės pasirinkimas, atfiltruojant įrašą pagal ID\n",
    "cursor.execute(\"\"\"SELECT LastName, FirstName, id FROM Persons WHERE id = 1;\"\"\")\n",
    "results = cursor.fetchall()\n",
    "\n",
    "print(results[0])"
   ]
  },
  {
   "cell_type": "code",
   "execution_count": null,
   "id": "0dbbdf7f",
   "metadata": {},
   "outputs": [],
   "source": [
    "# Įrašų atnaujinimas\n",
    "cursor.execute(\"\"\"UPDATE Persons\n",
    "SET Address = 'Castle st. 8', City = 'UK, Juliet'\n",
    "WHERE id = 2;\"\"\")"
   ]
  },
  {
   "cell_type": "code",
   "execution_count": null,
   "id": "b5b46782",
   "metadata": {},
   "outputs": [
    {
     "name": "stdout",
     "output_type": "stream",
     "text": [
      "[]\n"
     ]
    }
   ],
   "source": [
    "# Įrašų ištrynimas\n",
    "cursor.execute(\"\"\"DELETE from Persons\n",
    "WHERE id = 4;\"\"\")"
   ]
  },
  {
   "cell_type": "code",
   "execution_count": null,
   "id": "ccc97aee",
   "metadata": {},
   "outputs": [
    {
     "name": "stdout",
     "output_type": "stream",
     "text": [
      "[]\n"
     ]
    }
   ],
   "source": [
    "# Duomenų išsaugojimas DB\n",
    "con.commit()"
   ]
  }
 ],
 "metadata": {
  "kernelspec": {
   "display_name": "venv",
   "language": "python",
   "name": "python3"
  },
  "language_info": {
   "codemirror_mode": {
    "name": "ipython",
    "version": 3
   },
   "file_extension": ".py",
   "mimetype": "text/x-python",
   "name": "python",
   "nbconvert_exporter": "python",
   "pygments_lexer": "ipython3",
   "version": "3.13.4"
  }
 },
 "nbformat": 4,
 "nbformat_minor": 5
}
